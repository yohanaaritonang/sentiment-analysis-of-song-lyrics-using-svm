{
 "cells": [
  {
   "cell_type": "markdown",
   "metadata": {},
   "source": [
    "Import Library"
   ]
  },
  {
   "cell_type": "code",
   "execution_count": 1,
   "metadata": {},
   "outputs": [],
   "source": [
    "import pandas as pd\n",
    "import numpy as np\n",
    "import matplotlib.pyplot as plt\n",
    "from IPython.display import Image\n",
    "%matplotlib inline\n",
    "import seaborn as sns"
   ]
  },
  {
   "cell_type": "markdown",
   "metadata": {},
   "source": [
    "Load Dataset"
   ]
  },
  {
   "cell_type": "code",
   "execution_count": 2,
   "metadata": {},
   "outputs": [
    {
     "name": "stdout",
     "output_type": "stream",
     "text": [
      "Wall time: 22.9 ms\n",
      "Wall time: 15 ms\n"
     ]
    }
   ],
   "source": [
    "%time train_data = pd.read_csv(\"Train.csv\", delimiter=',', index_col =0)\n",
    "%time test_data = pd.read_csv(\"Test.csv\", delimiter=',', index_col =0)"
   ]
  },
  {
   "cell_type": "code",
   "execution_count": 3,
   "metadata": {},
   "outputs": [
    {
     "data": {
      "text/html": [
       "<div>\n",
       "<style scoped>\n",
       "    .dataframe tbody tr th:only-of-type {\n",
       "        vertical-align: middle;\n",
       "    }\n",
       "\n",
       "    .dataframe tbody tr th {\n",
       "        vertical-align: top;\n",
       "    }\n",
       "\n",
       "    .dataframe thead th {\n",
       "        text-align: right;\n",
       "    }\n",
       "</style>\n",
       "<table border=\"1\" class=\"dataframe\">\n",
       "  <thead>\n",
       "    <tr style=\"text-align: right;\">\n",
       "      <th></th>\n",
       "      <th>Song Name</th>\n",
       "      <th>Artist's Name</th>\n",
       "      <th>Duration of Music (seconds)</th>\n",
       "      <th>Category</th>\n",
       "      <th>Lyrics</th>\n",
       "    </tr>\n",
       "    <tr>\n",
       "      <th>SongID</th>\n",
       "      <th></th>\n",
       "      <th></th>\n",
       "      <th></th>\n",
       "      <th></th>\n",
       "      <th></th>\n",
       "    </tr>\n",
       "  </thead>\n",
       "  <tbody>\n",
       "    <tr>\n",
       "      <th>161</th>\n",
       "      <td>Hot Air Balloon</td>\n",
       "      <td>Owl City</td>\n",
       "      <td>568</td>\n",
       "      <td>happy</td>\n",
       "      <td>We wrote a prelude to our own fairy tale and b...</td>\n",
       "    </tr>\n",
       "    <tr>\n",
       "      <th>196</th>\n",
       "      <td>Loving You Tonight</td>\n",
       "      <td>Andrew Allen</td>\n",
       "      <td>181</td>\n",
       "      <td>happy</td>\n",
       "      <td>Lost in the day, in a way It's the same a the ...</td>\n",
       "    </tr>\n",
       "    <tr>\n",
       "      <th>188</th>\n",
       "      <td>Lollipop</td>\n",
       "      <td>Aqua</td>\n",
       "      <td>219</td>\n",
       "      <td>happy</td>\n",
       "      <td>Aqua - Lollipop I am the Candyman Coming from ...</td>\n",
       "    </tr>\n",
       "    <tr>\n",
       "      <th>140</th>\n",
       "      <td>Free</td>\n",
       "      <td>Good Lovelies</td>\n",
       "      <td>177</td>\n",
       "      <td>happy</td>\n",
       "      <td>I keep my lid on tightly I dress the part and ...</td>\n",
       "    </tr>\n",
       "    <tr>\n",
       "      <th>284</th>\n",
       "      <td>If I Were A Boy</td>\n",
       "      <td>Beyonce</td>\n",
       "      <td>253</td>\n",
       "      <td>sad</td>\n",
       "      <td>If I were a boy Even just for a day Iâd roll...</td>\n",
       "    </tr>\n",
       "  </tbody>\n",
       "</table>\n",
       "</div>"
      ],
      "text/plain": [
       "                 Song Name  Artist's Name  Duration of Music (seconds)  \\\n",
       "SongID                                                                   \n",
       "161        Hot Air Balloon       Owl City                          568   \n",
       "196     Loving You Tonight   Andrew Allen                          181   \n",
       "188               Lollipop           Aqua                          219   \n",
       "140                   Free  Good Lovelies                          177   \n",
       "284        If I Were A Boy        Beyonce                          253   \n",
       "\n",
       "       Category                                             Lyrics  \n",
       "SongID                                                              \n",
       "161       happy  We wrote a prelude to our own fairy tale and b...  \n",
       "196       happy  Lost in the day, in a way It's the same a the ...  \n",
       "188       happy  Aqua - Lollipop I am the Candyman Coming from ...  \n",
       "140       happy  I keep my lid on tightly I dress the part and ...  \n",
       "284         sad  If I were a boy Even just for a day Iâd roll...  "
      ]
     },
     "execution_count": 3,
     "metadata": {},
     "output_type": "execute_result"
    }
   ],
   "source": [
    "train_data.sample(5)"
   ]
  },
  {
   "cell_type": "code",
   "execution_count": 4,
   "metadata": {},
   "outputs": [
    {
     "data": {
      "text/html": [
       "<div>\n",
       "<style scoped>\n",
       "    .dataframe tbody tr th:only-of-type {\n",
       "        vertical-align: middle;\n",
       "    }\n",
       "\n",
       "    .dataframe tbody tr th {\n",
       "        vertical-align: top;\n",
       "    }\n",
       "\n",
       "    .dataframe thead th {\n",
       "        text-align: right;\n",
       "    }\n",
       "</style>\n",
       "<table border=\"1\" class=\"dataframe\">\n",
       "  <thead>\n",
       "    <tr style=\"text-align: right;\">\n",
       "      <th></th>\n",
       "      <th>Song Name</th>\n",
       "      <th>Artist's Name</th>\n",
       "      <th>Duration of Music (seconds)</th>\n",
       "      <th>Category</th>\n",
       "      <th>Lyrics</th>\n",
       "    </tr>\n",
       "    <tr>\n",
       "      <th>SongID</th>\n",
       "      <th></th>\n",
       "      <th></th>\n",
       "      <th></th>\n",
       "      <th></th>\n",
       "      <th></th>\n",
       "    </tr>\n",
       "  </thead>\n",
       "  <tbody>\n",
       "    <tr>\n",
       "      <th>75</th>\n",
       "      <td>The Water Is Wide</td>\n",
       "      <td>James Taylor</td>\n",
       "      <td>182</td>\n",
       "      <td>relaxed</td>\n",
       "      <td>The water is wide. I cannot get o'er And neith...</td>\n",
       "    </tr>\n",
       "    <tr>\n",
       "      <th>75</th>\n",
       "      <td>Sweet Sixteen</td>\n",
       "      <td>Hilary Duff</td>\n",
       "      <td>187</td>\n",
       "      <td>happy</td>\n",
       "      <td>Today I'm gonna run away Feel the sun through ...</td>\n",
       "    </tr>\n",
       "    <tr>\n",
       "      <th>69</th>\n",
       "      <td>The Moment I Knew</td>\n",
       "      <td>Taylor Swift</td>\n",
       "      <td>765</td>\n",
       "      <td>sad</td>\n",
       "      <td>You should've been there Should've burst throu...</td>\n",
       "    </tr>\n",
       "    <tr>\n",
       "      <th>46</th>\n",
       "      <td>The Four Horsemen</td>\n",
       "      <td>Metallica</td>\n",
       "      <td>321</td>\n",
       "      <td>angry</td>\n",
       "      <td>By the last breath of the fourth winds blow Be...</td>\n",
       "    </tr>\n",
       "    <tr>\n",
       "      <th>30</th>\n",
       "      <td>By Our Love</td>\n",
       "      <td>Christy Nockels</td>\n",
       "      <td>221</td>\n",
       "      <td>relaxed</td>\n",
       "      <td>Brothers, let us come together Walking in the ...</td>\n",
       "    </tr>\n",
       "  </tbody>\n",
       "</table>\n",
       "</div>"
      ],
      "text/plain": [
       "                Song Name    Artist's Name  Duration of Music (seconds)  \\\n",
       "SongID                                                                    \n",
       "75      The Water Is Wide     James Taylor                          182   \n",
       "75          Sweet Sixteen      Hilary Duff                          187   \n",
       "69      The Moment I Knew     Taylor Swift                          765   \n",
       "46      The Four Horsemen        Metallica                          321   \n",
       "30            By Our Love  Christy Nockels                          221   \n",
       "\n",
       "       Category                                             Lyrics  \n",
       "SongID                                                              \n",
       "75      relaxed  The water is wide. I cannot get o'er And neith...  \n",
       "75        happy  Today I'm gonna run away Feel the sun through ...  \n",
       "69          sad  You should've been there Should've burst throu...  \n",
       "46        angry  By the last breath of the fourth winds blow Be...  \n",
       "30      relaxed  Brothers, let us come together Walking in the ...  "
      ]
     },
     "execution_count": 4,
     "metadata": {},
     "output_type": "execute_result"
    }
   ],
   "source": [
    "test_data.sample(5)"
   ]
  },
  {
   "cell_type": "markdown",
   "metadata": {},
   "source": [
    "# Data Preprocessing"
   ]
  },
  {
   "cell_type": "markdown",
   "metadata": {},
   "source": [
    "## 1. Data Cleaning"
   ]
  },
  {
   "cell_type": "markdown",
   "metadata": {},
   "source": [
    "### Detecting the Missing Value"
   ]
  },
  {
   "cell_type": "code",
   "execution_count": 5,
   "metadata": {},
   "outputs": [
    {
     "data": {
      "text/html": [
       "<div>\n",
       "<style scoped>\n",
       "    .dataframe tbody tr th:only-of-type {\n",
       "        vertical-align: middle;\n",
       "    }\n",
       "\n",
       "    .dataframe tbody tr th {\n",
       "        vertical-align: top;\n",
       "    }\n",
       "\n",
       "    .dataframe thead th {\n",
       "        text-align: right;\n",
       "    }\n",
       "</style>\n",
       "<table border=\"1\" class=\"dataframe\">\n",
       "  <thead>\n",
       "    <tr style=\"text-align: right;\">\n",
       "      <th></th>\n",
       "      <th>Song Name</th>\n",
       "      <th>Artist's Name</th>\n",
       "      <th>Duration of Music (seconds)</th>\n",
       "      <th>Category</th>\n",
       "      <th>Lyrics</th>\n",
       "    </tr>\n",
       "    <tr>\n",
       "      <th>SongID</th>\n",
       "      <th></th>\n",
       "      <th></th>\n",
       "      <th></th>\n",
       "      <th></th>\n",
       "      <th></th>\n",
       "    </tr>\n",
       "  </thead>\n",
       "  <tbody>\n",
       "    <tr>\n",
       "      <th>1</th>\n",
       "      <td>False</td>\n",
       "      <td>False</td>\n",
       "      <td>False</td>\n",
       "      <td>False</td>\n",
       "      <td>False</td>\n",
       "    </tr>\n",
       "    <tr>\n",
       "      <th>2</th>\n",
       "      <td>False</td>\n",
       "      <td>False</td>\n",
       "      <td>False</td>\n",
       "      <td>False</td>\n",
       "      <td>False</td>\n",
       "    </tr>\n",
       "    <tr>\n",
       "      <th>3</th>\n",
       "      <td>False</td>\n",
       "      <td>False</td>\n",
       "      <td>False</td>\n",
       "      <td>False</td>\n",
       "      <td>False</td>\n",
       "    </tr>\n",
       "    <tr>\n",
       "      <th>4</th>\n",
       "      <td>False</td>\n",
       "      <td>False</td>\n",
       "      <td>False</td>\n",
       "      <td>False</td>\n",
       "      <td>False</td>\n",
       "    </tr>\n",
       "    <tr>\n",
       "      <th>5</th>\n",
       "      <td>False</td>\n",
       "      <td>False</td>\n",
       "      <td>False</td>\n",
       "      <td>False</td>\n",
       "      <td>False</td>\n",
       "    </tr>\n",
       "    <tr>\n",
       "      <th>...</th>\n",
       "      <td>...</td>\n",
       "      <td>...</td>\n",
       "      <td>...</td>\n",
       "      <td>...</td>\n",
       "      <td>...</td>\n",
       "    </tr>\n",
       "    <tr>\n",
       "      <th>396</th>\n",
       "      <td>False</td>\n",
       "      <td>False</td>\n",
       "      <td>False</td>\n",
       "      <td>False</td>\n",
       "      <td>False</td>\n",
       "    </tr>\n",
       "    <tr>\n",
       "      <th>397</th>\n",
       "      <td>False</td>\n",
       "      <td>False</td>\n",
       "      <td>False</td>\n",
       "      <td>False</td>\n",
       "      <td>False</td>\n",
       "    </tr>\n",
       "    <tr>\n",
       "      <th>398</th>\n",
       "      <td>False</td>\n",
       "      <td>False</td>\n",
       "      <td>False</td>\n",
       "      <td>False</td>\n",
       "      <td>False</td>\n",
       "    </tr>\n",
       "    <tr>\n",
       "      <th>399</th>\n",
       "      <td>False</td>\n",
       "      <td>False</td>\n",
       "      <td>False</td>\n",
       "      <td>False</td>\n",
       "      <td>False</td>\n",
       "    </tr>\n",
       "    <tr>\n",
       "      <th>400</th>\n",
       "      <td>False</td>\n",
       "      <td>False</td>\n",
       "      <td>False</td>\n",
       "      <td>False</td>\n",
       "      <td>False</td>\n",
       "    </tr>\n",
       "  </tbody>\n",
       "</table>\n",
       "<p>400 rows × 5 columns</p>\n",
       "</div>"
      ],
      "text/plain": [
       "        Song Name  Artist's Name  Duration of Music (seconds)  Category  \\\n",
       "SongID                                                                    \n",
       "1           False          False                        False     False   \n",
       "2           False          False                        False     False   \n",
       "3           False          False                        False     False   \n",
       "4           False          False                        False     False   \n",
       "5           False          False                        False     False   \n",
       "...           ...            ...                          ...       ...   \n",
       "396         False          False                        False     False   \n",
       "397         False          False                        False     False   \n",
       "398         False          False                        False     False   \n",
       "399         False          False                        False     False   \n",
       "400         False          False                        False     False   \n",
       "\n",
       "        Lyrics  \n",
       "SongID          \n",
       "1        False  \n",
       "2        False  \n",
       "3        False  \n",
       "4        False  \n",
       "5        False  \n",
       "...        ...  \n",
       "396      False  \n",
       "397      False  \n",
       "398      False  \n",
       "399      False  \n",
       "400      False  \n",
       "\n",
       "[400 rows x 5 columns]"
      ]
     },
     "execution_count": 5,
     "metadata": {},
     "output_type": "execute_result"
    }
   ],
   "source": [
    "train_data.isna()"
   ]
  },
  {
   "cell_type": "code",
   "execution_count": 6,
   "metadata": {},
   "outputs": [
    {
     "data": {
      "text/html": [
       "<div>\n",
       "<style scoped>\n",
       "    .dataframe tbody tr th:only-of-type {\n",
       "        vertical-align: middle;\n",
       "    }\n",
       "\n",
       "    .dataframe tbody tr th {\n",
       "        vertical-align: top;\n",
       "    }\n",
       "\n",
       "    .dataframe thead th {\n",
       "        text-align: right;\n",
       "    }\n",
       "</style>\n",
       "<table border=\"1\" class=\"dataframe\">\n",
       "  <thead>\n",
       "    <tr style=\"text-align: right;\">\n",
       "      <th></th>\n",
       "      <th>Song Name</th>\n",
       "      <th>Artist's Name</th>\n",
       "      <th>Duration of Music (seconds)</th>\n",
       "      <th>Category</th>\n",
       "      <th>Lyrics</th>\n",
       "    </tr>\n",
       "    <tr>\n",
       "      <th>SongID</th>\n",
       "      <th></th>\n",
       "      <th></th>\n",
       "      <th></th>\n",
       "      <th></th>\n",
       "      <th></th>\n",
       "    </tr>\n",
       "  </thead>\n",
       "  <tbody>\n",
       "    <tr>\n",
       "      <th>1</th>\n",
       "      <td>False</td>\n",
       "      <td>False</td>\n",
       "      <td>False</td>\n",
       "      <td>False</td>\n",
       "      <td>False</td>\n",
       "    </tr>\n",
       "    <tr>\n",
       "      <th>2</th>\n",
       "      <td>False</td>\n",
       "      <td>False</td>\n",
       "      <td>False</td>\n",
       "      <td>False</td>\n",
       "      <td>False</td>\n",
       "    </tr>\n",
       "    <tr>\n",
       "      <th>3</th>\n",
       "      <td>False</td>\n",
       "      <td>False</td>\n",
       "      <td>False</td>\n",
       "      <td>False</td>\n",
       "      <td>False</td>\n",
       "    </tr>\n",
       "    <tr>\n",
       "      <th>4</th>\n",
       "      <td>False</td>\n",
       "      <td>False</td>\n",
       "      <td>False</td>\n",
       "      <td>False</td>\n",
       "      <td>False</td>\n",
       "    </tr>\n",
       "    <tr>\n",
       "      <th>5</th>\n",
       "      <td>False</td>\n",
       "      <td>False</td>\n",
       "      <td>False</td>\n",
       "      <td>False</td>\n",
       "      <td>False</td>\n",
       "    </tr>\n",
       "    <tr>\n",
       "      <th>...</th>\n",
       "      <td>...</td>\n",
       "      <td>...</td>\n",
       "      <td>...</td>\n",
       "      <td>...</td>\n",
       "      <td>...</td>\n",
       "    </tr>\n",
       "    <tr>\n",
       "      <th>97</th>\n",
       "      <td>False</td>\n",
       "      <td>False</td>\n",
       "      <td>False</td>\n",
       "      <td>False</td>\n",
       "      <td>False</td>\n",
       "    </tr>\n",
       "    <tr>\n",
       "      <th>98</th>\n",
       "      <td>False</td>\n",
       "      <td>False</td>\n",
       "      <td>False</td>\n",
       "      <td>False</td>\n",
       "      <td>False</td>\n",
       "    </tr>\n",
       "    <tr>\n",
       "      <th>99</th>\n",
       "      <td>False</td>\n",
       "      <td>False</td>\n",
       "      <td>False</td>\n",
       "      <td>False</td>\n",
       "      <td>False</td>\n",
       "    </tr>\n",
       "    <tr>\n",
       "      <th>100</th>\n",
       "      <td>False</td>\n",
       "      <td>False</td>\n",
       "      <td>False</td>\n",
       "      <td>False</td>\n",
       "      <td>False</td>\n",
       "    </tr>\n",
       "    <tr>\n",
       "      <th>101</th>\n",
       "      <td>False</td>\n",
       "      <td>False</td>\n",
       "      <td>False</td>\n",
       "      <td>False</td>\n",
       "      <td>False</td>\n",
       "    </tr>\n",
       "  </tbody>\n",
       "</table>\n",
       "<p>378 rows × 5 columns</p>\n",
       "</div>"
      ],
      "text/plain": [
       "        Song Name  Artist's Name  Duration of Music (seconds)  Category  \\\n",
       "SongID                                                                    \n",
       "1           False          False                        False     False   \n",
       "2           False          False                        False     False   \n",
       "3           False          False                        False     False   \n",
       "4           False          False                        False     False   \n",
       "5           False          False                        False     False   \n",
       "...           ...            ...                          ...       ...   \n",
       "97          False          False                        False     False   \n",
       "98          False          False                        False     False   \n",
       "99          False          False                        False     False   \n",
       "100         False          False                        False     False   \n",
       "101         False          False                        False     False   \n",
       "\n",
       "        Lyrics  \n",
       "SongID          \n",
       "1        False  \n",
       "2        False  \n",
       "3        False  \n",
       "4        False  \n",
       "5        False  \n",
       "...        ...  \n",
       "97       False  \n",
       "98       False  \n",
       "99       False  \n",
       "100      False  \n",
       "101      False  \n",
       "\n",
       "[378 rows x 5 columns]"
      ]
     },
     "execution_count": 6,
     "metadata": {},
     "output_type": "execute_result"
    }
   ],
   "source": [
    "test_data.isna()"
   ]
  },
  {
   "cell_type": "markdown",
   "metadata": {},
   "source": [
    "### Summarizing the Missing Value"
   ]
  },
  {
   "cell_type": "code",
   "execution_count": 7,
   "metadata": {},
   "outputs": [
    {
     "data": {
      "text/plain": [
       "Song Name                      0\n",
       "Artist's Name                  0\n",
       "Duration of Music (seconds)    0\n",
       "Category                       0\n",
       "Lyrics                         0\n",
       "dtype: int64"
      ]
     },
     "execution_count": 7,
     "metadata": {},
     "output_type": "execute_result"
    }
   ],
   "source": [
    "train_data.isna().sum()"
   ]
  },
  {
   "cell_type": "code",
   "execution_count": 8,
   "metadata": {},
   "outputs": [
    {
     "data": {
      "text/plain": [
       "Song Name                      0\n",
       "Artist's Name                  0\n",
       "Duration of Music (seconds)    0\n",
       "Category                       0\n",
       "Lyrics                         0\n",
       "dtype: int64"
      ]
     },
     "execution_count": 8,
     "metadata": {},
     "output_type": "execute_result"
    }
   ],
   "source": [
    "test_data.isna().sum()"
   ]
  },
  {
   "cell_type": "markdown",
   "metadata": {},
   "source": [
    "Column does not contain Missing Values"
   ]
  },
  {
   "cell_type": "markdown",
   "metadata": {},
   "source": [
    "## 2. Case Folding"
   ]
  },
  {
   "cell_type": "code",
   "execution_count": 9,
   "metadata": {},
   "outputs": [],
   "source": [
    "train_data = train_data['Lyrics'].str.lower()"
   ]
  },
  {
   "cell_type": "code",
   "execution_count": 10,
   "metadata": {},
   "outputs": [
    {
     "name": "stdout",
     "output_type": "stream",
     "text": [
      "another day wasted out of time i can't get out of this altered state of mind i'm going overboard my conscience meets decline into reality i know this can't be fine cause i'm all messed up making prefect nonsense drowning in my doubt too well cause i'm all messed up going nowhere fast but circles in my mind so blind who are these voices in my head i can't go on like this living like the dead i haven't slept so long feeling sad i dread i'm talking to myself forgot what i just said cause i'm all messed up making prefect nonsense drowning in my doubt too well cause i'm all messed up going nowhere fast but circles in my mind so blind well i hold my only enemy as closely as a friend and i sold my own reality to further my descent self-destruction taking over it's so easy to pretend introduction to this nightmare may never end can anyone help me drag my heels i'm running overtime i can't hold down my meals my mind is racing by staring blankly feels like pulling out my teeth while this engine winds cause i'm all messed up making prefect nonsense drowning in my doubt too well cause i'm all messed up going nowhere fast but circles in my mind so blind \n"
     ]
    }
   ],
   "source": [
    "print(train_data[1])"
   ]
  },
  {
   "cell_type": "code",
   "execution_count": 11,
   "metadata": {},
   "outputs": [],
   "source": [
    "test_data = test_data['Lyrics'].str.lower()"
   ]
  },
  {
   "cell_type": "code",
   "execution_count": 12,
   "metadata": {},
   "outputs": [
    {
     "name": "stdout",
     "output_type": "stream",
     "text": [
      "SongID\n",
      "1      sometimes you just feel tired, feel weak when ...\n",
      "2      too late for the other side caught in a change...\n",
      "3      cast your eyes into the distance try to focus ...\n",
      "4      look like ass, smell like shit why are you suc...\n",
      "5      you find me offensive i find you offensive for...\n",
      "                             ...                        \n",
      "97     the bluest skies don't seem so blue and the st...\n",
      "98     you are my sunshine, my only sunshine you make...\n",
      "99     see the pyramids along the nile watch the sunr...\n",
      "100    see the pyramids along the nile watch the sun ...\n",
      "101    staring at the moon so blue turning all my tho...\n",
      "Name: Lyrics, Length: 378, dtype: object\n"
     ]
    }
   ],
   "source": [
    "print(test_data)"
   ]
  },
  {
   "cell_type": "markdown",
   "metadata": {},
   "source": [
    "## 5. Stemming"
   ]
  },
  {
   "cell_type": "code",
   "execution_count": 13,
   "metadata": {},
   "outputs": [],
   "source": [
    "from nltk import PorterStemmer, LancasterStemmer, word_tokenize"
   ]
  },
  {
   "cell_type": "markdown",
   "metadata": {},
   "source": [
    "Stemming with word_tokenize in train_data"
   ]
  },
  {
   "cell_type": "code",
   "execution_count": 14,
   "metadata": {},
   "outputs": [
    {
     "name": "stdout",
     "output_type": "stream",
     "text": [
      "['another', 'day', 'wasted', 'out', 'of', 'time', 'i', 'ca', \"n't\", 'get', 'out', 'of', 'this', 'altered', 'state', 'of', 'mind', 'i', \"'m\", 'going', 'overboard', 'my', 'conscience', 'meets', 'decline', 'into', 'reality', 'i', 'know', 'this', 'ca', \"n't\", 'be', 'fine', 'cause', 'i', \"'m\", 'all', 'messed', 'up', 'making', 'prefect', 'nonsense', 'drowning', 'in', 'my', 'doubt', 'too', 'well', 'cause', 'i', \"'m\", 'all', 'messed', 'up', 'going', 'nowhere', 'fast', 'but', 'circles', 'in', 'my', 'mind', 'so', 'blind', 'who', 'are', 'these', 'voices', 'in', 'my', 'head', 'i', 'ca', \"n't\", 'go', 'on', 'like', 'this', 'living', 'like', 'the', 'dead', 'i', 'have', \"n't\", 'slept', 'so', 'long', 'feeling', 'sad', 'i', 'dread', 'i', \"'m\", 'talking', 'to', 'myself', 'forgot', 'what', 'i', 'just', 'said', 'cause', 'i', \"'m\", 'all', 'messed', 'up', 'making', 'prefect', 'nonsense', 'drowning', 'in', 'my', 'doubt', 'too', 'well', 'cause', 'i', \"'m\", 'all', 'messed', 'up', 'going', 'nowhere', 'fast', 'but', 'circles', 'in', 'my', 'mind', 'so', 'blind', 'well', 'i', 'hold', 'my', 'only', 'enemy', 'as', 'closely', 'as', 'a', 'friend', 'and', 'i', 'sold', 'my', 'own', 'reality', 'to', 'further', 'my', 'descent', 'self-destruction', 'taking', 'over', 'it', \"'s\", 'so', 'easy', 'to', 'pretend', 'introduction', 'to', 'this', 'nightmare', 'may', 'never', 'end', 'can', 'anyone', 'help', 'me', 'drag', 'my', 'heels', 'i', \"'m\", 'running', 'overtime', 'i', 'ca', \"n't\", 'hold', 'down', 'my', 'meals', 'my', 'mind', 'is', 'racing', 'by', 'staring', 'blankly', 'feels', 'like', 'pulling', 'out', 'my', 'teeth', 'while', 'this', 'engine', 'winds', 'cause', 'i', \"'m\", 'all', 'messed', 'up', 'making', 'prefect', 'nonsense', 'drowning', 'in', 'my', 'doubt', 'too', 'well', 'cause', 'i', \"'m\", 'all', 'messed', 'up', 'going', 'nowhere', 'fast', 'but', 'circles', 'in', 'my', 'mind', 'so', 'blind']\n"
     ]
    }
   ],
   "source": [
    "tokens_train = word_tokenize(train_data[1])\n",
    "print(tokens_train)"
   ]
  },
  {
   "cell_type": "markdown",
   "metadata": {},
   "source": [
    "Stemming with PorterStemmer in train_data"
   ]
  },
  {
   "cell_type": "code",
   "execution_count": 15,
   "metadata": {},
   "outputs": [
    {
     "name": "stdout",
     "output_type": "stream",
     "text": [
      "['anoth', 'day', 'wast', 'out', 'of', 'time', 'i', 'ca', \"n't\", 'get', 'out', 'of', 'thi', 'alter', 'state', 'of', 'mind', 'i', \"'m\", 'go', 'overboard', 'my', 'conscienc', 'meet', 'declin', 'into', 'realiti', 'i', 'know', 'thi', 'ca', \"n't\", 'be', 'fine', 'caus', 'i', \"'m\", 'all', 'mess', 'up', 'make', 'prefect', 'nonsens', 'drown', 'in', 'my', 'doubt', 'too', 'well', 'caus', 'i', \"'m\", 'all', 'mess', 'up', 'go', 'nowher', 'fast', 'but', 'circl', 'in', 'my', 'mind', 'so', 'blind', 'who', 'are', 'these', 'voic', 'in', 'my', 'head', 'i', 'ca', \"n't\", 'go', 'on', 'like', 'thi', 'live', 'like', 'the', 'dead', 'i', 'have', \"n't\", 'slept', 'so', 'long', 'feel', 'sad', 'i', 'dread', 'i', \"'m\", 'talk', 'to', 'myself', 'forgot', 'what', 'i', 'just', 'said', 'caus', 'i', \"'m\", 'all', 'mess', 'up', 'make', 'prefect', 'nonsens', 'drown', 'in', 'my', 'doubt', 'too', 'well', 'caus', 'i', \"'m\", 'all', 'mess', 'up', 'go', 'nowher', 'fast', 'but', 'circl', 'in', 'my', 'mind', 'so', 'blind', 'well', 'i', 'hold', 'my', 'onli', 'enemi', 'as', 'close', 'as', 'a', 'friend', 'and', 'i', 'sold', 'my', 'own', 'realiti', 'to', 'further', 'my', 'descent', 'self-destruct', 'take', 'over', 'it', \"'s\", 'so', 'easi', 'to', 'pretend', 'introduct', 'to', 'thi', 'nightmar', 'may', 'never', 'end', 'can', 'anyon', 'help', 'me', 'drag', 'my', 'heel', 'i', \"'m\", 'run', 'overtim', 'i', 'ca', \"n't\", 'hold', 'down', 'my', 'meal', 'my', 'mind', 'is', 'race', 'by', 'stare', 'blankli', 'feel', 'like', 'pull', 'out', 'my', 'teeth', 'while', 'thi', 'engin', 'wind', 'caus', 'i', \"'m\", 'all', 'mess', 'up', 'make', 'prefect', 'nonsens', 'drown', 'in', 'my', 'doubt', 'too', 'well', 'caus', 'i', \"'m\", 'all', 'mess', 'up', 'go', 'nowher', 'fast', 'but', 'circl', 'in', 'my', 'mind', 'so', 'blind']\n"
     ]
    }
   ],
   "source": [
    "porter = PorterStemmer()\n",
    "pStems = [porter.stem(t) for t in tokens_train]\n",
    "print(pStems)"
   ]
  },
  {
   "cell_type": "markdown",
   "metadata": {},
   "source": [
    "Stemming with LancasterStemmer in train_data"
   ]
  },
  {
   "cell_type": "code",
   "execution_count": 16,
   "metadata": {},
   "outputs": [
    {
     "name": "stdout",
     "output_type": "stream",
     "text": [
      "['anoth', 'day', 'wast', 'out', 'of', 'tim', 'i', 'ca', \"n't\", 'get', 'out', 'of', 'thi', 'alt', 'stat', 'of', 'mind', 'i', \"'m\", 'going', 'overboard', 'my', 'conscy', 'meet', 'declin', 'into', 'real', 'i', 'know', 'thi', 'ca', \"n't\", 'be', 'fin', 'caus', 'i', \"'m\", 'al', 'mess', 'up', 'mak', 'prefect', 'nonsens', 'drown', 'in', 'my', 'doubt', 'too', 'wel', 'caus', 'i', \"'m\", 'al', 'mess', 'up', 'going', 'nowh', 'fast', 'but', 'circ', 'in', 'my', 'mind', 'so', 'blind', 'who', 'ar', 'thes', 'voic', 'in', 'my', 'head', 'i', 'ca', \"n't\", 'go', 'on', 'lik', 'thi', 'liv', 'lik', 'the', 'dead', 'i', 'hav', \"n't\", 'slept', 'so', 'long', 'feel', 'sad', 'i', 'dread', 'i', \"'m\", 'talk', 'to', 'myself', 'forgot', 'what', 'i', 'just', 'said', 'caus', 'i', \"'m\", 'al', 'mess', 'up', 'mak', 'prefect', 'nonsens', 'drown', 'in', 'my', 'doubt', 'too', 'wel', 'caus', 'i', \"'m\", 'al', 'mess', 'up', 'going', 'nowh', 'fast', 'but', 'circ', 'in', 'my', 'mind', 'so', 'blind', 'wel', 'i', 'hold', 'my', 'on', 'enemy', 'as', 'clos', 'as', 'a', 'friend', 'and', 'i', 'sold', 'my', 'own', 'real', 'to', 'furth', 'my', 'desc', 'self-destruction', 'tak', 'ov', 'it', \"'s\", 'so', 'easy', 'to', 'pretend', 'introduc', 'to', 'thi', 'nightm', 'may', 'nev', 'end', 'can', 'anyon', 'help', 'me', 'drag', 'my', 'heel', 'i', \"'m\", 'run', 'overtim', 'i', 'ca', \"n't\", 'hold', 'down', 'my', 'meal', 'my', 'mind', 'is', 'rac', 'by', 'star', 'blank', 'feel', 'lik', 'pul', 'out', 'my', 'tee', 'whil', 'thi', 'engin', 'wind', 'caus', 'i', \"'m\", 'al', 'mess', 'up', 'mak', 'prefect', 'nonsens', 'drown', 'in', 'my', 'doubt', 'too', 'wel', 'caus', 'i', \"'m\", 'al', 'mess', 'up', 'going', 'nowh', 'fast', 'but', 'circ', 'in', 'my', 'mind', 'so', 'blind']\n"
     ]
    }
   ],
   "source": [
    "lancaster = LancasterStemmer()\n",
    "lStems = [lancaster.stem(t) for t in tokens_train]\n",
    "print(lStems)"
   ]
  },
  {
   "cell_type": "markdown",
   "metadata": {},
   "source": [
    "## 6. Lemmatization"
   ]
  },
  {
   "cell_type": "code",
   "execution_count": 17,
   "metadata": {},
   "outputs": [],
   "source": [
    "from nltk import word_tokenize, PorterStemmer, WordNetLemmatizer"
   ]
  },
  {
   "cell_type": "markdown",
   "metadata": {},
   "source": [
    "Stemming with PorterStemmer in train_data"
   ]
  },
  {
   "cell_type": "code",
   "execution_count": 18,
   "metadata": {},
   "outputs": [
    {
     "name": "stdout",
     "output_type": "stream",
     "text": [
      "['another', 'day', 'wasted', 'out', 'of', 'time', 'i', 'ca', \"n't\", 'get', 'out', 'of', 'this', 'altered', 'state', 'of', 'mind', 'i', \"'m\", 'going', 'overboard', 'my', 'conscience', 'meets', 'decline', 'into', 'reality', 'i', 'know', 'this', 'ca', \"n't\", 'be', 'fine', 'cause', 'i', \"'m\", 'all', 'messed', 'up', 'making', 'prefect', 'nonsense', 'drowning', 'in', 'my', 'doubt', 'too', 'well', 'cause', 'i', \"'m\", 'all', 'messed', 'up', 'going', 'nowhere', 'fast', 'but', 'circles', 'in', 'my', 'mind', 'so', 'blind', 'who', 'are', 'these', 'voices', 'in', 'my', 'head', 'i', 'ca', \"n't\", 'go', 'on', 'like', 'this', 'living', 'like', 'the', 'dead', 'i', 'have', \"n't\", 'slept', 'so', 'long', 'feeling', 'sad', 'i', 'dread', 'i', \"'m\", 'talking', 'to', 'myself', 'forgot', 'what', 'i', 'just', 'said', 'cause', 'i', \"'m\", 'all', 'messed', 'up', 'making', 'prefect', 'nonsense', 'drowning', 'in', 'my', 'doubt', 'too', 'well', 'cause', 'i', \"'m\", 'all', 'messed', 'up', 'going', 'nowhere', 'fast', 'but', 'circles', 'in', 'my', 'mind', 'so', 'blind', 'well', 'i', 'hold', 'my', 'only', 'enemy', 'as', 'closely', 'as', 'a', 'friend', 'and', 'i', 'sold', 'my', 'own', 'reality', 'to', 'further', 'my', 'descent', 'self-destruction', 'taking', 'over', 'it', \"'s\", 'so', 'easy', 'to', 'pretend', 'introduction', 'to', 'this', 'nightmare', 'may', 'never', 'end', 'can', 'anyone', 'help', 'me', 'drag', 'my', 'heels', 'i', \"'m\", 'running', 'overtime', 'i', 'ca', \"n't\", 'hold', 'down', 'my', 'meals', 'my', 'mind', 'is', 'racing', 'by', 'staring', 'blankly', 'feels', 'like', 'pulling', 'out', 'my', 'teeth', 'while', 'this', 'engine', 'winds', 'cause', 'i', \"'m\", 'all', 'messed', 'up', 'making', 'prefect', 'nonsense', 'drowning', 'in', 'my', 'doubt', 'too', 'well', 'cause', 'i', \"'m\", 'all', 'messed', 'up', 'going', 'nowhere', 'fast', 'but', 'circles', 'in', 'my', 'mind', 'so', 'blind']\n"
     ]
    }
   ],
   "source": [
    "tokens_train = word_tokenize(train_data[1])\n",
    "print(tokens_train)"
   ]
  },
  {
   "cell_type": "markdown",
   "metadata": {},
   "source": [
    "Lemmatization with WordNetLemmatizer in train_data"
   ]
  },
  {
   "cell_type": "code",
   "execution_count": 19,
   "metadata": {},
   "outputs": [
    {
     "name": "stdout",
     "output_type": "stream",
     "text": [
      "['another', 'day', 'wasted', 'out', 'of', 'time', 'i', 'ca', \"n't\", 'get', 'out', 'of', 'this', 'altered', 'state', 'of', 'mind', 'i', \"'m\", 'going', 'overboard', 'my', 'conscience', 'meet', 'decline', 'into', 'reality', 'i', 'know', 'this', 'ca', \"n't\", 'be', 'fine', 'cause', 'i', \"'m\", 'all', 'messed', 'up', 'making', 'prefect', 'nonsense', 'drowning', 'in', 'my', 'doubt', 'too', 'well', 'cause', 'i', \"'m\", 'all', 'messed', 'up', 'going', 'nowhere', 'fast', 'but', 'circle', 'in', 'my', 'mind', 'so', 'blind', 'who', 'are', 'these', 'voice', 'in', 'my', 'head', 'i', 'ca', \"n't\", 'go', 'on', 'like', 'this', 'living', 'like', 'the', 'dead', 'i', 'have', \"n't\", 'slept', 'so', 'long', 'feeling', 'sad', 'i', 'dread', 'i', \"'m\", 'talking', 'to', 'myself', 'forgot', 'what', 'i', 'just', 'said', 'cause', 'i', \"'m\", 'all', 'messed', 'up', 'making', 'prefect', 'nonsense', 'drowning', 'in', 'my', 'doubt', 'too', 'well', 'cause', 'i', \"'m\", 'all', 'messed', 'up', 'going', 'nowhere', 'fast', 'but', 'circle', 'in', 'my', 'mind', 'so', 'blind', 'well', 'i', 'hold', 'my', 'only', 'enemy', 'a', 'closely', 'a', 'a', 'friend', 'and', 'i', 'sold', 'my', 'own', 'reality', 'to', 'further', 'my', 'descent', 'self-destruction', 'taking', 'over', 'it', \"'s\", 'so', 'easy', 'to', 'pretend', 'introduction', 'to', 'this', 'nightmare', 'may', 'never', 'end', 'can', 'anyone', 'help', 'me', 'drag', 'my', 'heel', 'i', \"'m\", 'running', 'overtime', 'i', 'ca', \"n't\", 'hold', 'down', 'my', 'meal', 'my', 'mind', 'is', 'racing', 'by', 'staring', 'blankly', 'feel', 'like', 'pulling', 'out', 'my', 'teeth', 'while', 'this', 'engine', 'wind', 'cause', 'i', \"'m\", 'all', 'messed', 'up', 'making', 'prefect', 'nonsense', 'drowning', 'in', 'my', 'doubt', 'too', 'well', 'cause', 'i', \"'m\", 'all', 'messed', 'up', 'going', 'nowhere', 'fast', 'but', 'circle', 'in', 'my', 'mind', 'so', 'blind']\n"
     ]
    }
   ],
   "source": [
    "lemmatizer = WordNetLemmatizer()\n",
    "lemmas = [lemmatizer.lemmatize(t) for t in tokens_train]\n",
    "print(lemmas)"
   ]
  },
  {
   "cell_type": "code",
   "execution_count": null,
   "metadata": {},
   "outputs": [],
   "source": []
  }
 ],
 "metadata": {
  "kernelspec": {
   "display_name": "Python 3",
   "language": "python",
   "name": "python3"
  },
  "language_info": {
   "codemirror_mode": {
    "name": "ipython",
    "version": 3
   },
   "file_extension": ".py",
   "mimetype": "text/x-python",
   "name": "python",
   "nbconvert_exporter": "python",
   "pygments_lexer": "ipython3",
   "version": "3.6.5"
  }
 },
 "nbformat": 4,
 "nbformat_minor": 4
}
